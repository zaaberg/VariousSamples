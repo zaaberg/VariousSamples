{
 "cells": [
  {
   "cell_type": "markdown",
   "metadata": {},
   "source": [
    "# Assignment 2 - Zach Aaberg"
   ]
  },
  {
   "cell_type": "code",
   "execution_count": 1,
   "metadata": {},
   "outputs": [],
   "source": [
    "# Loading libraries and settings\n",
    "from sklearn.model_selection import train_test_split\n",
    "from sklearn.preprocessing import StandardScaler\n",
    "from sklearn.metrics import accuracy_score\n",
    "from sklearn.linear_model import LogisticRegression\n",
    "from sklearn.neighbors import KNeighborsClassifier\n",
    "from sklearn.svm import SVC\n",
    "from sklearn.naive_bayes import GaussianNB\n",
    "from sklearn.ensemble import  RandomForestClassifier\n",
    "\n",
    "\n",
    "import matplotlib.pyplot as plt\n",
    "import numpy as np\n",
    "import pandas as pd\n",
    "\n",
    "ensemble_params = {}\n",
    "test_size = 200"
   ]
  },
  {
   "cell_type": "markdown",
   "metadata": {},
   "source": [
    "### Q1) Load the dataset into a pandas dataframe and display the first 5 lines of the dataset along with the column headings."
   ]
  },
  {
   "cell_type": "code",
   "execution_count": 2,
   "metadata": {},
   "outputs": [
    {
     "name": "stdout",
     "output_type": "stream",
     "text": [
      "   region  tenure  age  marital  address  income  ed  employ  retire  gender  \\\n",
      "0       2      13   44        1        9    64.0   4       5     0.0       0   \n",
      "1       3      11   33        1        7   136.0   5       5     0.0       0   \n",
      "2       3      68   52        1       24   116.0   1      29     0.0       1   \n",
      "3       2      33   33        0       12    33.0   2       0     0.0       1   \n",
      "4       2      23   30        1        9    30.0   1       2     0.0       0   \n",
      "\n",
      "   reside  custcat  \n",
      "0       2        1  \n",
      "1       6        4  \n",
      "2       2        3  \n",
      "3       1        1  \n",
      "4       4        3  \n"
     ]
    }
   ],
   "source": [
    "dataset = pd.read_csv(r'data.csv')\n",
    "print(dataset.head())"
   ]
  },
  {
   "cell_type": "markdown",
   "metadata": {},
   "source": [
    "### Q2) Display the number of instances for each class. That is, you should write code to find out how many instances you have for class 1, class 2, class 3, and class 4."
   ]
  },
  {
   "cell_type": "code",
   "execution_count": 3,
   "metadata": {},
   "outputs": [
    {
     "name": "stdout",
     "output_type": "stream",
     "text": [
      "Class Count\n",
      "3    281\n",
      "1    266\n",
      "4    236\n",
      "2    217\n",
      "Name: custcat, dtype: int64\n"
     ]
    }
   ],
   "source": [
    "# Isolating the explanatory and target variables\n",
    "X = dataset.iloc[:,:11].values\n",
    "y = dataset['custcat'].values\n",
    "y_count = dataset['custcat'].value_counts()\n",
    "\n",
    "print(\"Class\",\"Count\")\n",
    "print(y_count)"
   ]
  },
  {
   "cell_type": "markdown",
   "metadata": {},
   "source": [
    "### Q3) Create histograms of columns age and income to visually explore their distributions."
   ]
  },
  {
   "cell_type": "code",
   "execution_count": 4,
   "metadata": {},
   "outputs": [
    {
     "data": {
      "image/png": "[encoded data removed]",
      "text/plain": [
       "<Figure size 432x288 with 1 Axes>"
      ]
     },
     "metadata": {},
     "output_type": "display_data"
    },
    {
     "data": {
      "image/png": "[encoded data removed]",
      "text/plain": [
       "<Figure size 432x288 with 1 Axes>"
      ]
     },
     "metadata": {},
     "output_type": "display_data"
    }
   ],
   "source": [
    "plt.hist(dataset['age'], bins=25)\n",
    "plt.xlabel('Age')\n",
    "plt.show()\n",
    "\n",
    "plt.hist(dataset['income'], bins=25)\n",
    "plt.xlabel('Income')\n",
    "plt.show()\n"
   ]
  },
  {
   "cell_type": "markdown",
   "metadata": {},
   "source": [
    "### Q5) Split the dataset into training (80%) and testing set (20%)."
   ]
  },
  {
   "cell_type": "code",
   "execution_count": 5,
   "metadata": {},
   "outputs": [],
   "source": [
    "X_train, X_test, y_train, y_test = train_test_split(X,y,test_size=0.2)"
   ]
  },
  {
   "cell_type": "markdown",
   "metadata": {},
   "source": [
    "### Q4) Perform normalization of the data using standardization."
   ]
  },
  {
   "cell_type": "code",
   "execution_count": 6,
   "metadata": {},
   "outputs": [],
   "source": [
    "sc_X = StandardScaler()\n",
    "X_train = sc_X.fit_transform(X_train)\n",
    "X_test = sc_X.transform(X_test)"
   ]
  },
  {
   "cell_type": "markdown",
   "metadata": {},
   "source": [
    "### Q6) Model 1: Fit a logistic regression model. What is the testing misclassification rate you get?"
   ]
  },
  {
   "cell_type": "code",
   "execution_count": 7,
   "metadata": {},
   "outputs": [
    {
     "name": "stdout",
     "output_type": "stream",
     "text": [
      "Positive classification rate: 0.415\n"
     ]
    }
   ],
   "source": [
    "def LogReg(x_training, x_testing, y_training, y_testing):\n",
    "    # Loading model, fitting to our data, and running prediction\n",
    "    classifierObj_lr = LogisticRegression(random_state=0)\n",
    "    classifierObj_lr.fit(x_training, y_training)\n",
    "    y_pred = classifierObj_lr.predict(x_testing)\n",
    "    \n",
    "    # Generating the accuracy score of our model. Returns rate of positively classified predictions. \n",
    "    accuracy_lr = accuracy_score(y_testing, y_pred)\n",
    "    \n",
    "    return(accuracy_lr,classifierObj_lr)\n",
    "\n",
    "log_reg = LogReg(X_train, X_test, y_train, y_test)\n",
    "\n",
    "print(\"Positive classification rate:\",log_reg[0])"
   ]
  },
  {
   "cell_type": "markdown",
   "metadata": {},
   "source": [
    "### Q7) Model 2: We will now fit k-NN. However for k-NN you need to specify the value for k. In order to figure that out, run k-NN with different values of k and compute the testing misclassification rate. Plot a chart with k on X-axis and testing error on the Y-axis. What is the lowest value of testing error and corresponding value of k?"
   ]
  },
  {
   "cell_type": "code",
   "execution_count": 8,
   "metadata": {},
   "outputs": [
    {
     "data": {
      "image/png": "[encoded data removed]",
      "text/plain": [
       "<Figure size 432x288 with 1 Axes>"
      ]
     },
     "metadata": {},
     "output_type": "display_data"
    },
    {
     "name": "stdout",
     "output_type": "stream",
     "text": [
      "\n",
      "k_value   Classification_Rate\n",
      "4        0.395\n"
     ]
    }
   ],
   "source": [
    "def kNN(x_training, x_testing, y_training, y_testing, attempts):\n",
    "    k_vals = {}\n",
    "    for k in range(attempts):\n",
    "        # range function begins at 0. \n",
    "        k = k + 1\n",
    "        \n",
    "        # Loading model, fitting to our data, and running prediction\n",
    "        classifierObj = KNeighborsClassifier(n_neighbors=k,p=2,metric='minkowski')\n",
    "        classifierObj.fit(x_training,y_training)\n",
    "        y_pred = classifierObj.predict(x_testing)\n",
    "\n",
    "        # Generating the accuracy score of our model. Returns rate of positively classified predictions. \n",
    "        k_vals[k] = accuracy_score(y_testing,y_pred)\n",
    "    \n",
    "    # Selects the best classification rate out of dictionary.\n",
    "    max_key = max(k_vals,key=k_vals.get)\n",
    "    \n",
    "    # Loading model of lowest error and fitting it for our final ensemble.\n",
    "    classifierObj_kNN = KNeighborsClassifier(n_neighbors=max_key,p=2,metric='minkowski')\n",
    "    classifierObj_kNN.fit(x_training,y_training)\n",
    "    \n",
    "    # Builds scatterplot of k and testing error.\n",
    "    plt.scatter(k_vals.keys(), k_vals.values())\n",
    "    plt.xlabel(\"k Value\")\n",
    "    plt.ylabel(\"Classification Rate\")\n",
    "    plt.show()\n",
    "    \n",
    "    return(max_key, k_vals.get(max_key),classifierObj_kNN)\n",
    "\n",
    "kNN_results = kNN(X_train, X_test, y_train, y_test, 100)\n",
    "\n",
    "print('''\n",
    "k_value   Classification_Rate\n",
    "{}        {}'''.format(kNN_results[0],kNN_results[1]))"
   ]
  },
  {
   "cell_type": "markdown",
   "metadata": {},
   "source": [
    "### Q8) Model 3: Fit SVM model with different kernels. Which kernel gives the least testing error?"
   ]
  },
  {
   "cell_type": "code",
   "execution_count": 9,
   "metadata": {},
   "outputs": [
    {
     "name": "stdout",
     "output_type": "stream",
     "text": [
      "\n",
      "     Positive_Count  Accuracy_Rate\n",
      "Linear:     82       0.41\n",
      "Gaussian:   75       0.375\n",
      "Polynomial: 82       0.41\n",
      "Sigmoid:    73       0.365\n",
      "\n",
      "\n",
      "Linear kernel appears to provide the highest accuracy/lowest testing error, on this sample, with 82 matches.\n",
      "\n"
     ]
    }
   ],
   "source": [
    "def svm_linear(x_training, x_testing, y_training, y_testing):\n",
    "    # Loading model, fitting to our data, and running prediction    \n",
    "    classifierObj_svm=SVC(kernel='linear')\n",
    "    classifierObj_svm.fit(x_training, y_training)\n",
    "    y_pred = classifierObj_svm.predict(x_testing)\n",
    "    \n",
    "    # Generating the accuracy score of our model. Returns rate of positively classified predictions. \n",
    "    accuracy_svm = accuracy_score(y_testing, y_pred, normalize=False)  \n",
    "    return(accuracy_svm, classifierObj_svm)\n",
    "\n",
    "def svm_gaussian(x_training, x_testing, y_training, y_testing):\n",
    "    # Loading model, fitting to our data, and running prediction  \n",
    "    classifierObj_svm=SVC()\n",
    "    classifierObj_svm.fit(x_training, y_training)\n",
    "    y_pred = classifierObj_svm.predict(x_testing)\n",
    "    \n",
    "    # Generating the accuracy score of our model. Returns rate of positively classified predictions. \n",
    "    accuracy_svm = accuracy_score(y_testing, y_pred, normalize=False)  \n",
    "    return(accuracy_svm, classifierObj_svm)\n",
    "\n",
    "def svm_poly(x_training, x_testing, y_training, y_testing):\n",
    "    # Loading model, fitting to our data, and running prediction\n",
    "    classifierObj_svm=SVC(kernel='poly',degree=3)\n",
    "    classifierObj_svm.fit(x_training, y_training)\n",
    "    y_pred = classifierObj_svm.predict(x_testing)\n",
    "    \n",
    "    # Generating the accuracy score of our model. Returns rate of positively classified predictions. \n",
    "    accuracy_svm = accuracy_score(y_testing, y_pred, normalize=False)  \n",
    "    return(accuracy_svm, classifierObj_svm)\n",
    "\n",
    "def svm_sigmoid(x_training, x_testing, y_training, y_testing):\n",
    "    # Loading model, fitting to our data, and running prediction\n",
    "    classifierObj_svm=SVC(kernel='sigmoid')\n",
    "    classifierObj_svm.fit(x_training, y_training)\n",
    "    y_pred = classifierObj_svm.predict(x_testing)\n",
    "    \n",
    "    # Generating the accuracy score of our model. Returns rate of positively classified predictions. \n",
    "    accuracy_svm = accuracy_score(y_testing, y_pred, normalize=False)  \n",
    "    return(accuracy_svm, classifierObj_svm)\n",
    "\n",
    "# Holds accuracy scores from svm models\n",
    "score_dict = {}\n",
    "\n",
    "# Running each kernel and then the adding results to dictionary\n",
    "linear = svm_linear(X_train, X_test, y_train, y_test) \n",
    "gaussian = svm_gaussian(X_train, X_test, y_train, y_test) \n",
    "poly = svm_poly(X_train, X_test, y_train, y_test) \n",
    "sigmoid = svm_sigmoid(X_train, X_test, y_train, y_test)    \n",
    "score_dict[\"Linear\"] = linear[0]\n",
    "score_dict[\"Gaussian\"] =  gaussian[0]\n",
    "score_dict[\"Polynomial\"] =  poly[0]\n",
    "score_dict[\"Sigmoid\"] = sigmoid[0]\n",
    "\n",
    "# Displays results\n",
    "print('''\n",
    "     Positive_Count  Accuracy_Rate\n",
    "Linear:     {}       {}\n",
    "Gaussian:   {}       {}\n",
    "Polynomial: {}       {}\n",
    "Sigmoid:    {}       {}\n",
    "'''.format(score_dict.get('Linear'),score_dict.get('Linear')/test_size, \n",
    "           score_dict.get('Gaussian'), score_dict.get('Gaussian')/test_size,\n",
    "           score_dict.get('Polynomial'),score_dict.get('Polynomial')/test_size,\n",
    "           score_dict.get('Sigmoid'),score_dict.get('Sigmoid')/test_size))\n",
    "\n",
    "# Get the best model and save it as a parameter for our ensemble.\n",
    "max_score = max(score_dict,key=score_dict.get)\n",
    "ensemble_params[\"svm_type\"] = max_score\n",
    "\n",
    "# Determines best kernel results\n",
    "print('''\\n{} kernel appears to provide the highest accuracy/lowest testing error, on this sample, with {} matches.\n",
    "'''.format(max_score, score_dict.get(max_score)))"
   ]
  },
  {
   "cell_type": "markdown",
   "metadata": {},
   "source": [
    "### Q9) Model 4: Fit Naïve Bayes model. What is the testing error you get?"
   ]
  },
  {
   "cell_type": "code",
   "execution_count": 10,
   "metadata": {},
   "outputs": [
    {
     "name": "stdout",
     "output_type": "stream",
     "text": [
      "\n",
      "       Positive_Count   Accuracy_Rate\n",
      "Naive Bayes:   72       0.36\n"
     ]
    }
   ],
   "source": [
    "def naiveBayes(x_training, x_testing, y_training, y_testing):\n",
    "    \n",
    "    # Loading model, fitting to our data, and running prediction\n",
    "    classifierObj_nb = GaussianNB()\n",
    "    classifierObj_nb.fit(x_training, y_training)\n",
    "    y_pred = classifierObj_nb.predict(x_testing)\n",
    "    \n",
    "    # Generating the accuracy score of our model. Returns rate of positively classified predictions.    \n",
    "    accuracy_naiveBayes = accuracy_score(y_testing, y_pred, normalize=False)  \n",
    "    \n",
    "    return(accuracy_naiveBayes, classifierObj_nb)\n",
    "\n",
    "naive_score = naiveBayes(X_train, X_test, y_train, y_test) \n",
    "\n",
    "print('''\n",
    "       Positive_Count   Accuracy_Rate\n",
    "Naive Bayes:   {}       {}'''.format(naive_score[0], naive_score[0]/test_size))"
   ]
  },
  {
   "cell_type": "markdown",
   "metadata": {},
   "source": [
    "### Q10) Model 5: Fit Random Forest model. For Random Forest, you need to specify the number of trees (n_estimators). In order to figure that out, run Random Forest with different values of n_estimators and compute the testing misclassification rate. Plot a chart with n_estimators on X-axis and testing error on the Y-axis. What is the lowest value of testing error and corresponding value of n_estimators?"
   ]
  },
  {
   "cell_type": "code",
   "execution_count": 11,
   "metadata": {},
   "outputs": [
    {
     "data": {
      "image/png": "[encoded data removed]",
      "text/plain": [
       "<Figure size 432x288 with 1 Axes>"
      ]
     },
     "metadata": {},
     "output_type": "display_data"
    },
    {
     "name": "stdout",
     "output_type": "stream",
     "text": [
      "\n",
      "               n_estimator  Accuracy_Rate\n",
      "Random Forest: 42            0.425\n"
     ]
    }
   ],
   "source": [
    "def randomForest(x_training, x_testing, y_training, y_testing, attempts):\n",
    "    n_scores = {}\n",
    "    for n in range(attempts):\n",
    "        # range function begins at 0. \n",
    "        n = n + 1\n",
    "        \n",
    "        # Loading model, fitting to our data, and running prediction\n",
    "        classifierObj = RandomForestClassifier(n_estimators = n, criterion='entropy')\n",
    "        classifierObj.fit(x_training, y_training)\n",
    "        y_pred = classifierObj.predict(x_testing)\n",
    "        \n",
    "        \n",
    "        accuracy_randomForest = accuracy_score(y_testing, y_pred) \n",
    "        \n",
    "        # Add scores to dictionary to determine best n_estimator parameter\n",
    "        n_scores[n] = accuracy_randomForest\n",
    "        \n",
    "    # Selects the best classification rate out of dictionary.\n",
    "    max_n_score = max(n_scores,key=n_scores.get)\n",
    "    \n",
    "    # Loading model of lowest error and fitting it for our final ensemble.\n",
    "    classifierObj_rf = RandomForestClassifier(n_estimators = max_n_score, criterion='entropy')\n",
    "    classifierObj_rf.fit(x_training, y_training)\n",
    "    \n",
    "    # Builds scatterplot of k and testing error.\n",
    "    plt.scatter(n_scores.keys(), n_scores.values())\n",
    "    plt.xlabel(\"n_estimators\")\n",
    "    plt.ylabel(\"Classification Rate\")\n",
    "    plt.show()\n",
    "    \n",
    "    return(max_n_score,n_scores.get(max_n_score),classifierObj_rf)\n",
    "    \n",
    "\n",
    "rf_score = randomForest(X_train, X_test, y_train, y_test, 100) \n",
    "ensemble_params[\"n_randomForest\"] = rf_score[0]\n",
    "\n",
    "print('''\n",
    "               n_estimator  Accuracy_Rate\n",
    "Random Forest: {}            {}'''.format(rf_score[0],rf_score[1]))"
   ]
  },
  {
   "cell_type": "markdown",
   "metadata": {},
   "source": [
    "### Q11) Predicting with Ensemble: Now that you have built 5 models. Loop over the testing set. For every test instance, have each of the models predict the class label. Eventual class predicted will be based on a majority vote of the 5 models. What is the testing misclassification rate you get with the ensemble model?"
   ]
  },
  {
   "cell_type": "code",
   "execution_count": 12,
   "metadata": {},
   "outputs": [
    {
     "name": "stdout",
     "output_type": "stream",
     "text": [
      "Testing set's classification rate, while using an ensemble, is 0.41\n"
     ]
    }
   ],
   "source": [
    "def ensemble(x_training, x_testing, y_training, y_testing):\n",
    "    # Logistic Regression predictions\n",
    "    y_pred_lr = naive_score[1].predict(x_testing)\n",
    "    \n",
    "    # kNN predictions\n",
    "    y_pred_kNN = kNN_results[2].predict(x_testing)\n",
    "    \n",
    "    # Logic to handle the best fitting kernel and run SVM predictions\n",
    "    if ensemble_params.get('svm_type') == 'Linear':\n",
    "        y_pred_svm = linear[1].predict(x_testing)\n",
    "    elif ensemble_params.get('svm_type') == 'Gaussian':\n",
    "        y_pred_svm = gaussian[1].predict(x_testing)\n",
    "    elif ensemble_params.get('svm_type') == 'Polynomial':\n",
    "        y_pred_svm = poly[1].predict(x_testing)\n",
    "    elif ensemble_params.get('svm_type') == 'Sigmoid':\n",
    "        y_pred_svm = sigmoid[1].predict(x_testing)\n",
    "    else:\n",
    "        print(\"Error in SVM portion of ensemble.\")\n",
    "    \n",
    "    # Naive Bayes predictions\n",
    "    y_pred_nb = naive_score[1].predict(x_testing)\n",
    "    \n",
    "    # Random Forest predictions\n",
    "    y_pred_rf = rf_score[2].predict(x_testing)\n",
    "    \n",
    "    #add all of the predictions to a dataframe and take the mode for each row.\n",
    "    df = pd.DataFrame({\"logR\":y_pred_lr,\"knn\":y_pred_kNN,\"svm\":y_pred_svm,\"nb\":y_pred_nb,\"rf\":y_pred_rf})\n",
    "    ensemble_prediction = df.mode(axis=1)[0]\n",
    "  \n",
    "    return(accuracy_score(ensemble_prediction.values,y_testing))\n",
    "\n",
    "ensemble_classRate = ensemble(X_train, X_test, y_train, y_test)\n",
    "print(\"Testing set's classification rate, while using an ensemble, is {}\".format(ensemble_classRate))\n",
    "    "
   ]
  }
 ],
 "metadata": {
  "kernelspec": {
   "display_name": "Python 3",
   "language": "python",
   "name": "python3"
  },
  "language_info": {
   "codemirror_mode": {
    "name": "ipython",
    "version": 3
   },
   "file_extension": ".py",
   "mimetype": "text/x-python",
   "name": "python",
   "nbconvert_exporter": "python",
   "pygments_lexer": "ipython3",
   "version": "3.6.5"
  }
 },
 "nbformat": 4,
 "nbformat_minor": 2
}
