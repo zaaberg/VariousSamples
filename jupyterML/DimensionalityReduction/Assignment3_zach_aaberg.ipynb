{
 "cells": [
  {
   "cell_type": "markdown",
   "metadata": {},
   "source": [
    "## Load dataset and import modules\n"
   ]
  },
  {
   "cell_type": "code",
   "execution_count": 1,
   "metadata": {},
   "outputs": [],
   "source": [
    "from sklearn.datasets import load_breast_cancer\n",
    "\n",
    "from sklearn.model_selection import train_test_split\n",
    "from sklearn.preprocessing import StandardScaler\n",
    "from sklearn.linear_model import LogisticRegression\n",
    "from sklearn.decomposition import PCA\n",
    "from sklearn.decomposition import KernelPCA\n",
    "from sklearn.metrics import confusion_matrix\n",
    "from sklearn.discriminant_analysis import LinearDiscriminantAnalysis as LDA\n",
    "\n",
    "import time\n",
    "\n",
    "\n",
    "df = load_breast_cancer()"
   ]
  },
  {
   "cell_type": "markdown",
   "metadata": {},
   "source": [
    "## Split in training and test set"
   ]
  },
  {
   "cell_type": "code",
   "execution_count": 2,
   "metadata": {},
   "outputs": [],
   "source": [
    "X = df.data\n",
    "y = df.target\n",
    "\n",
    "X_train, X_test, y_train, y_test = train_test_split(X,y, test_size=0.3, random_state=0)\n",
    "\n",
    "scale_X = StandardScaler()\n",
    "X_train = scale_X.fit_transform(X_train)\n",
    "X_test = scale_X.transform(X_test)"
   ]
  },
  {
   "cell_type": "markdown",
   "metadata": {},
   "source": [
    "## Train Logistic Regression and calculate runtime"
   ]
  },
  {
   "cell_type": "code",
   "execution_count": 3,
   "metadata": {},
   "outputs": [
    {
     "name": "stdout",
     "output_type": "stream",
     "text": [
      "Logistic Regression ran in 0.0029921531677246094 seconds.\n"
     ]
    }
   ],
   "source": [
    "start_lr = time.time()\n",
    "\n",
    "log_regressObj = LogisticRegression(random_state=0)\n",
    "log_regressObj.fit(X_train,y_train)\n",
    "\n",
    "end_lr = time.time()\n",
    "\n",
    "runtime_lr = (end_lr - start_lr)\n",
    "print(\"Logistic Regression ran in {} seconds.\".format(runtime_lr))"
   ]
  },
  {
   "cell_type": "markdown",
   "metadata": {},
   "source": [
    "## Evaluate model on test set"
   ]
  },
  {
   "cell_type": "code",
   "execution_count": 4,
   "metadata": {},
   "outputs": [
    {
     "name": "stdout",
     "output_type": "stream",
     "text": [
      "[[ 60   3]\n",
      " [  1 107]]\n"
     ]
    }
   ],
   "source": [
    "y_pred_lr = log_regressObj.predict(X_test)\n",
    "cm = confusion_matrix(y_test, y_pred_lr)\n",
    "\n",
    "print(cm)"
   ]
  },
  {
   "cell_type": "markdown",
   "metadata": {},
   "source": [
    "## PCA to reduce dimensionality"
   ]
  },
  {
   "cell_type": "code",
   "execution_count": 5,
   "metadata": {},
   "outputs": [
    {
     "name": "stdout",
     "output_type": "stream",
     "text": [
      "Explained Variance Ratio of 0.9838650421992905\n"
     ]
    }
   ],
   "source": [
    "pcaObj = PCA(n_components=14)\n",
    "\n",
    "X_train_pca = pcaObj.fit_transform(X_train)\n",
    "X_test_pca = pcaObj.transform(X_test)\n",
    "\n",
    "print(\"Explained Variance Ratio of {}\".format(sum(pcaObj.explained_variance_ratio_)))"
   ]
  },
  {
   "cell_type": "markdown",
   "metadata": {},
   "source": [
    "## Train new Logistic Regression on PCA"
   ]
  },
  {
   "cell_type": "code",
   "execution_count": 6,
   "metadata": {},
   "outputs": [
    {
     "name": "stdout",
     "output_type": "stream",
     "text": [
      "PCA Logistic Regression ran in 0.000997304916381836 seconds.\n"
     ]
    }
   ],
   "source": [
    "start_pcalr = time.time()\n",
    "\n",
    "log_regressObj.fit(X_train_pca, y_train)\n",
    "\n",
    "end_pcalr = time.time()\n",
    "runtime_pcalr = (end_pcalr - start_pcalr)\n",
    "\n",
    "print(\"PCA Logistic Regression ran in {} seconds.\".format(runtime_pcalr))"
   ]
  },
  {
   "cell_type": "markdown",
   "metadata": {},
   "source": [
    "## Evaluate PCA Logistic Regression "
   ]
  },
  {
   "cell_type": "code",
   "execution_count": 7,
   "metadata": {},
   "outputs": [
    {
     "name": "stdout",
     "output_type": "stream",
     "text": [
      "PCA Logistic Regression ran in 0.000997304916381836 seconds with an accuracy of 0.9766081871345029. \n",
      "\n",
      "[[ 60   3]\n",
      " [  1 107]]\n"
     ]
    }
   ],
   "source": [
    "y_pred_pcalr = log_regressObj.predict(X_test_pca)\n",
    "pcalr_score = log_regressObj.score(X_test_pca, y_test)\n",
    "\n",
    "print(\"PCA Logistic Regression ran in {} seconds with an accuracy of {}. \\n\".format(runtime_pcalr, pcalr_score))\n",
    "\n",
    "cm_pca = confusion_matrix(y_test, y_pred_pcalr)\n",
    "\n",
    "print(cm_pca)"
   ]
  },
  {
   "cell_type": "markdown",
   "metadata": {},
   "source": [
    "## LDA to reduce to 2 linear discriminants"
   ]
  },
  {
   "cell_type": "code",
   "execution_count": 8,
   "metadata": {},
   "outputs": [
    {
     "name": "stdout",
     "output_type": "stream",
     "text": [
      "1.0\n"
     ]
    }
   ],
   "source": [
    "ldaObj = LDA(n_components=2)\n",
    "\n",
    "X_train_lda = ldaObj.fit_transform(X_train, y_train)\n",
    "X_test_lda = ldaObj.transform(X_test)\n",
    "\n",
    "print(sum(ldaObj.explained_variance_ratio_))"
   ]
  },
  {
   "cell_type": "markdown",
   "metadata": {},
   "source": [
    "## Train new Logistic Regression on LDA and calculate runtime"
   ]
  },
  {
   "cell_type": "code",
   "execution_count": 9,
   "metadata": {},
   "outputs": [
    {
     "name": "stdout",
     "output_type": "stream",
     "text": [
      "LDA Logistic Regression ran in 0.0009963512420654297 seconds.\n"
     ]
    }
   ],
   "source": [
    "start_ldalr = time.time()\n",
    "\n",
    "log_regressObj.fit(X_train_lda, y_train)\n",
    "\n",
    "end_ldalr = time.time()\n",
    "runtime_ldalr = (end_ldalr - start_ldalr)\n",
    "\n",
    "print(\"LDA Logistic Regression ran in {} seconds.\".format(runtime_ldalr))"
   ]
  },
  {
   "cell_type": "markdown",
   "metadata": {},
   "source": [
    "## Evaluate LDA Logistic Regression"
   ]
  },
  {
   "cell_type": "code",
   "execution_count": 10,
   "metadata": {},
   "outputs": [
    {
     "name": "stdout",
     "output_type": "stream",
     "text": [
      "LDA Logistic Regression ran in 0.0009963512420654297 seconds with an accuracy of 0.9649122807017544. \n",
      "\n",
      "[[ 59   4]\n",
      " [  2 106]]\n"
     ]
    }
   ],
   "source": [
    "y_pred_ldalr = log_regressObj.predict(X_test_lda)\n",
    "ldalr_score = log_regressObj.score(X_test_lda, y_test)\n",
    "\n",
    "print(\"LDA Logistic Regression ran in {} seconds with an accuracy of {}. \\n\".format(runtime_ldalr, ldalr_score))\n",
    "\n",
    "cm_lda = confusion_matrix(y_test, y_pred_ldalr)\n",
    "\n",
    "print(cm_lda)"
   ]
  },
  {
   "cell_type": "markdown",
   "metadata": {},
   "source": [
    "## Kernel PCA to reduce to 2 features"
   ]
  },
  {
   "cell_type": "code",
   "execution_count": 11,
   "metadata": {},
   "outputs": [],
   "source": [
    "kernelPCA_Obj = KernelPCA(n_components=2, kernel=\"rbf\")\n",
    "\n",
    "X_train_kpca = kernelPCA_Obj.fit_transform(X_train)\n",
    "X_test_kpca = kernelPCA_Obj.transform(X_test)"
   ]
  },
  {
   "cell_type": "markdown",
   "metadata": {},
   "source": [
    "## Train new Logistic Regression on Kernel PCA and calculate runtime"
   ]
  },
  {
   "cell_type": "code",
   "execution_count": 12,
   "metadata": {},
   "outputs": [
    {
     "name": "stdout",
     "output_type": "stream",
     "text": [
      "Kernel PCA Logistic Regression ran in 0.000997304916381836 seconds.\n"
     ]
    }
   ],
   "source": [
    "start_kpcalr = time.time()\n",
    "\n",
    "log_regressObj.fit(X_train_kpca, y_train)\n",
    "\n",
    "end_kpcalr = time.time()\n",
    "runtime_kpcalr = (end_kpcalr - start_kpcalr)\n",
    "\n",
    "print(\"Kernel PCA Logistic Regression ran in {} seconds.\".format(runtime_kpcalr))"
   ]
  },
  {
   "cell_type": "markdown",
   "metadata": {},
   "source": [
    "## Evaluate Kernel PCA Logistic Regression"
   ]
  },
  {
   "cell_type": "code",
   "execution_count": 13,
   "metadata": {},
   "outputs": [
    {
     "name": "stdout",
     "output_type": "stream",
     "text": [
      "Kernel PCA Logistic Regression ran in 0.000997304916381836 seconds with an accuracy of 0.9005847953216374. \n",
      "\n",
      "[[ 59   4]\n",
      " [  2 106]]\n"
     ]
    }
   ],
   "source": [
    "y_pred_kpcalr = log_regressObj.predict(X_test_kpca)\n",
    "\n",
    "kpcalr_score = log_regressObj.score(X_test_kpca, y_test)\n",
    "\n",
    "print(\"Kernel PCA Logistic Regression ran in {} seconds with an accuracy of {}. \\n\".format(runtime_kpcalr, kpcalr_score))\n",
    "\n",
    "cm_kpca = confusion_matrix(y_test, y_pred_kpcalr)\n",
    "\n",
    "print(cm_lda)"
   ]
  }
 ],
 "metadata": {
  "kernelspec": {
   "display_name": "Python 3",
   "language": "python",
   "name": "python3"
  },
  "language_info": {
   "codemirror_mode": {
    "name": "ipython",
    "version": 3
   },
   "file_extension": ".py",
   "mimetype": "text/x-python",
   "name": "python",
   "nbconvert_exporter": "python",
   "pygments_lexer": "ipython3",
   "version": "3.6.5"
  }
 },
 "nbformat": 4,
 "nbformat_minor": 2
}
